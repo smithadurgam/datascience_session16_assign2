{
 "cells": [
  {
   "cell_type": "code",
   "execution_count": 9,
   "metadata": {},
   "outputs": [
    {
     "name": "stdout",
     "output_type": "stream",
     "text": [
      "20533.5\n",
      "variance 1:  51633\n",
      "variance 2:  5183.25\n"
     ]
    }
   ],
   "source": [
    "# Problem Statement 1:\n",
    "# Find the variance for the following set of data representing trees in California (heights in feet):\n",
    "# 3, 21, 98, 203, 17, 9\n",
    "\n",
    "import numpy as np\n",
    "import pandas as pd\n",
    "import matplotlib.pyplot as plt\n",
    "from math import *\n",
    "\n",
    "b = 3+ 9+ 17 + 21+ 98+ 203\n",
    "p=b*b/6\n",
    "print(p)\n",
    "\n",
    "c = (3 )**2 +  (9)**2 + (17 )**2 + (21)**2 + (98 )**2 + (203 )**2 \n",
    "\n",
    "print (\"variance 1: \", c)\n",
    "\n",
    "d =  (c - p)\n",
    "print (\"variance 2: \", d/6)"
   ]
  },
  {
   "cell_type": "code",
   "execution_count": 8,
   "metadata": {},
   "outputs": [
    {
     "name": "stdout",
     "output_type": "stream",
     "text": [
      "[  3   9  21  98 203  17]\n",
      "Variance :  5183.25"
     ]
    }
   ],
   "source": [
    "five_num = np.array([3,9, 21, 98, 203, 17])\n",
    "print(five_num)\n",
    "x = np.var(five_num)\n",
    "print(\"Variance : \", x,  end=\"\")"
   ]
  }
 ],
 "metadata": {
  "kernelspec": {
   "display_name": "Python 3",
   "language": "python",
   "name": "python3"
  },
  "language_info": {
   "codemirror_mode": {
    "name": "ipython",
    "version": 3
   },
   "file_extension": ".py",
   "mimetype": "text/x-python",
   "name": "python",
   "nbconvert_exporter": "python",
   "pygments_lexer": "ipython3",
   "version": "3.6.4"
  }
 },
 "nbformat": 4,
 "nbformat_minor": 2
}
